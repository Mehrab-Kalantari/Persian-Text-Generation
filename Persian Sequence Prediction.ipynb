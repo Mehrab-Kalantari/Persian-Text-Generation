{
 "cells": [
  {
   "cell_type": "markdown",
   "id": "77455ba0",
   "metadata": {},
   "source": [
    "# Persian Sequence Prediction using GRU Model\n",
    "[Dataset on kaggle](https://www.kaggle.com/datasets/miladfa7/persian-wikipedia-dataset)\n",
    "\n",
    "In this notebook, we create a model to generate persian text using GRU model and persian wikipedia dataset"
   ]
  },
  {
   "cell_type": "code",
   "execution_count": 1,
   "id": "f2d2ea75",
   "metadata": {},
   "outputs": [],
   "source": [
    "import tensorflow as tf\n",
    "import numpy as np"
   ]
  },
  {
   "cell_type": "markdown",
   "id": "f2ad1d4b",
   "metadata": {},
   "source": [
    "Reading a sample of dataset"
   ]
  },
  {
   "cell_type": "code",
   "execution_count": 3,
   "id": "efbdd1df",
   "metadata": {},
   "outputs": [],
   "source": [
    "text = open('Persian-WikiText-1.txt', 'rb').read().decode(encoding='UTF-8')"
   ]
  },
  {
   "cell_type": "code",
   "execution_count": 4,
   "id": "d8286c98",
   "metadata": {},
   "outputs": [
    {
     "data": {
      "text/plain": [
       "56695825"
      ]
     },
     "execution_count": 4,
     "metadata": {},
     "output_type": "execute_result"
    }
   ],
   "source": [
    "len(text)"
   ]
  },
  {
   "cell_type": "code",
   "execution_count": 5,
   "id": "3f97ecde",
   "metadata": {},
   "outputs": [
    {
     "data": {
      "text/plain": [
       "'ویکی پدیا (کوته نوشت به صورت «وپ» و «WP») یک دانشنامه برخط چندزبانه مبتنی بر وب با محتوای آزاد و همکاری باز است که با همکاری افراد داوطلب نوشته می شود و هر کسی که به اینترنت و وب دسترسی داشته باشد می تواند مقالات آن را ببیند و ویرایش کند. نام ویکی پدیا واژه ای ترکیبی است که از واژه های ویکی (وبگاه مشارکتی) و اِنسایکلوپدیا (Encyclopedia) (دانشنامه یا دائرةالمعارف) گرفته شده است. هدف ویکی پدیا آفرینش و انتشار جهانی یک دانشنامه با محتوای آزاد به تمامی زبان های زندهٔ دنیا است.\\n\\nویکی پدیای انگلیسی در تاریخ ۱۵ ژانویه ۲۰۰۱ (۲۶ دی ۱۳۷۹) به صورت مکملی برای دانشنامهٔ تخصصی نیوپدیا نوشته شد. بنیان گذاران آن «جیمی ویلز» و «لری سنگر» هستند. هم اکنون بنیاد غیرانتفاعی ویکی مدیا پروژهٔ ویکی پدیا را پشتیبانی می کند. میزبان های اینترنتی اصلی این وبگاه در شهر تامپای فلوریدا هستند. همچنین میزبان های اضافی دیگری هم در شهرهای آمستردام و سئول به این وبگاه یاری می رسانند.\\n\\n\"ویکی پدیا\" از پایان آوریل ۲۰۰۷ تا اکتبر ۲۰۱۹، یکی از ۱۰ وبگاه برتر جهان از لحاظ شمار بازدیدکنندگان بوده است که بیش از نیمی از بازدیدها به'"
      ]
     },
     "execution_count": 5,
     "metadata": {},
     "output_type": "execute_result"
    }
   ],
   "source": [
    "text[:1000]"
   ]
  },
  {
   "cell_type": "code",
   "execution_count": 6,
   "id": "0c847463",
   "metadata": {},
   "outputs": [],
   "source": [
    "text = text.replace('\\n', '')"
   ]
  },
  {
   "cell_type": "markdown",
   "id": "94036fc7",
   "metadata": {},
   "source": [
    "Subset of data"
   ]
  },
  {
   "cell_type": "code",
   "execution_count": 7,
   "id": "d8fce0ec",
   "metadata": {
    "scrolled": true
   },
   "outputs": [],
   "source": [
    "sub_text = text[:1000000]"
   ]
  },
  {
   "cell_type": "code",
   "execution_count": 8,
   "id": "6f83543f",
   "metadata": {},
   "outputs": [],
   "source": [
    "characters = sorted(set(sub_text))"
   ]
  },
  {
   "cell_type": "code",
   "execution_count": 9,
   "id": "edb8c494",
   "metadata": {},
   "outputs": [
    {
     "data": {
      "text/plain": [
       "223"
      ]
     },
     "execution_count": 9,
     "metadata": {},
     "output_type": "execute_result"
    }
   ],
   "source": [
    "len(characters)"
   ]
  },
  {
   "cell_type": "code",
   "execution_count": 10,
   "id": "e354175b",
   "metadata": {},
   "outputs": [],
   "source": [
    "char2index = {u:i for i, u in enumerate(characters)}\n",
    "index2char = np.array(characters)"
   ]
  },
  {
   "cell_type": "code",
   "execution_count": 11,
   "id": "d3217139",
   "metadata": {
    "scrolled": false
   },
   "outputs": [
    {
     "data": {
      "text/plain": [
       "{' ': 0,\n",
       " '!': 1,\n",
       " '\"': 2,\n",
       " \"'\": 3,\n",
       " '(': 4,\n",
       " ')': 5,\n",
       " '+': 6,\n",
       " ',': 7,\n",
       " '-': 8,\n",
       " '.': 9,\n",
       " '/': 10,\n",
       " '0': 11,\n",
       " '1': 12,\n",
       " '2': 13,\n",
       " '3': 14,\n",
       " '4': 15,\n",
       " '5': 16,\n",
       " '6': 17,\n",
       " '7': 18,\n",
       " '8': 19,\n",
       " '9': 20,\n",
       " ':': 21,\n",
       " ';': 22,\n",
       " '=': 23,\n",
       " '>': 24,\n",
       " 'A': 25,\n",
       " 'B': 26,\n",
       " 'C': 27,\n",
       " 'D': 28,\n",
       " 'E': 29,\n",
       " 'F': 30,\n",
       " 'G': 31,\n",
       " 'H': 32,\n",
       " 'I': 33,\n",
       " 'J': 34,\n",
       " 'K': 35,\n",
       " 'L': 36,\n",
       " 'M': 37,\n",
       " 'N': 38,\n",
       " 'O': 39,\n",
       " 'P': 40,\n",
       " 'Q': 41,\n",
       " 'R': 42,\n",
       " 'S': 43,\n",
       " 'T': 44,\n",
       " 'U': 45,\n",
       " 'V': 46,\n",
       " 'W': 47,\n",
       " 'X': 48,\n",
       " 'Y': 49,\n",
       " 'Z': 50,\n",
       " '[': 51,\n",
       " ']': 52,\n",
       " '^': 53,\n",
       " '_': 54,\n",
       " 'a': 55,\n",
       " 'b': 56,\n",
       " 'c': 57,\n",
       " 'd': 58,\n",
       " 'e': 59,\n",
       " 'f': 60,\n",
       " 'g': 61,\n",
       " 'h': 62,\n",
       " 'i': 63,\n",
       " 'j': 64,\n",
       " 'k': 65,\n",
       " 'l': 66,\n",
       " 'm': 67,\n",
       " 'n': 68,\n",
       " 'o': 69,\n",
       " 'p': 70,\n",
       " 'q': 71,\n",
       " 'r': 72,\n",
       " 's': 73,\n",
       " 't': 74,\n",
       " 'u': 75,\n",
       " 'v': 76,\n",
       " 'w': 77,\n",
       " 'x': 78,\n",
       " 'y': 79,\n",
       " 'z': 80,\n",
       " '{': 81,\n",
       " '|': 82,\n",
       " '}': 83,\n",
       " '\\xa0': 84,\n",
       " '«': 85,\n",
       " '»': 86,\n",
       " 'Ç': 87,\n",
       " '×': 88,\n",
       " 'à': 89,\n",
       " 'á': 90,\n",
       " 'ã': 91,\n",
       " 'ä': 92,\n",
       " 'ç': 93,\n",
       " 'é': 94,\n",
       " 'ê': 95,\n",
       " 'î': 96,\n",
       " 'ā': 97,\n",
       " 'ć': 98,\n",
       " 'ē': 99,\n",
       " 'ī': 100,\n",
       " 'ń': 101,\n",
       " 'ō': 102,\n",
       " 'Ś': 103,\n",
       " 'ş': 104,\n",
       " 'š': 105,\n",
       " 'ˈ': 106,\n",
       " 'Ά': 107,\n",
       " 'Α': 108,\n",
       " 'Μ': 109,\n",
       " 'Ο': 110,\n",
       " 'ή': 111,\n",
       " 'ί': 112,\n",
       " 'α': 113,\n",
       " 'β': 114,\n",
       " 'γ': 115,\n",
       " 'δ': 116,\n",
       " 'ε': 117,\n",
       " 'θ': 118,\n",
       " 'ι': 119,\n",
       " 'λ': 120,\n",
       " 'μ': 121,\n",
       " 'ν': 122,\n",
       " 'ξ': 123,\n",
       " 'ο': 124,\n",
       " 'ρ': 125,\n",
       " 'ς': 126,\n",
       " 'τ': 127,\n",
       " 'ω': 128,\n",
       " 'П': 129,\n",
       " 'Р': 130,\n",
       " 'а': 131,\n",
       " 'е': 132,\n",
       " 'и': 133,\n",
       " 'м': 134,\n",
       " 'н': 135,\n",
       " 'р': 136,\n",
       " 'т': 137,\n",
       " 'у': 138,\n",
       " 'я': 139,\n",
       " '،': 140,\n",
       " '؛': 141,\n",
       " '؟': 142,\n",
       " 'ء': 143,\n",
       " 'آ': 144,\n",
       " 'أ': 145,\n",
       " 'ؤ': 146,\n",
       " 'ئ': 147,\n",
       " 'ا': 148,\n",
       " 'ب': 149,\n",
       " 'ة': 150,\n",
       " 'ت': 151,\n",
       " 'ث': 152,\n",
       " 'ج': 153,\n",
       " 'ح': 154,\n",
       " 'خ': 155,\n",
       " 'د': 156,\n",
       " 'ذ': 157,\n",
       " 'ر': 158,\n",
       " 'ز': 159,\n",
       " 'س': 160,\n",
       " 'ش': 161,\n",
       " 'ص': 162,\n",
       " 'ض': 163,\n",
       " 'ط': 164,\n",
       " 'ظ': 165,\n",
       " 'ع': 166,\n",
       " 'غ': 167,\n",
       " 'ـ': 168,\n",
       " 'ف': 169,\n",
       " 'ق': 170,\n",
       " 'ل': 171,\n",
       " 'م': 172,\n",
       " 'ن': 173,\n",
       " 'ه': 174,\n",
       " 'و': 175,\n",
       " 'ي': 176,\n",
       " 'ً': 177,\n",
       " 'َ': 178,\n",
       " 'ُ': 179,\n",
       " 'ِ': 180,\n",
       " 'ّ': 181,\n",
       " 'ْ': 182,\n",
       " 'ٔ': 183,\n",
       " '٪': 184,\n",
       " '٫': 185,\n",
       " '٬': 186,\n",
       " 'ٰ': 187,\n",
       " 'پ': 188,\n",
       " 'چ': 189,\n",
       " 'ژ': 190,\n",
       " 'ک': 191,\n",
       " 'گ': 192,\n",
       " 'ۀ': 193,\n",
       " 'ی': 194,\n",
       " '۰': 195,\n",
       " '۱': 196,\n",
       " '۲': 197,\n",
       " '۳': 198,\n",
       " '۴': 199,\n",
       " '۵': 200,\n",
       " '۶': 201,\n",
       " '۷': 202,\n",
       " '۸': 203,\n",
       " '۹': 204,\n",
       " 'Ἀ': 205,\n",
       " 'ἑ': 206,\n",
       " 'ὁ': 207,\n",
       " 'ὔ': 208,\n",
       " 'ὕ': 209,\n",
       " 'ῆ': 210,\n",
       " '\\u200d': 211,\n",
       " '\\u200e': 212,\n",
       " '–': 213,\n",
       " '—': 214,\n",
       " '‚': 215,\n",
       " '“': 216,\n",
       " '”': 217,\n",
       " '„': 218,\n",
       " '…': 219,\n",
       " '→': 220,\n",
       " '∞': 221,\n",
       " 'ﷲ': 222}"
      ]
     },
     "execution_count": 11,
     "metadata": {},
     "output_type": "execute_result"
    }
   ],
   "source": [
    "char2index"
   ]
  },
  {
   "cell_type": "code",
   "execution_count": 12,
   "id": "c8003216",
   "metadata": {},
   "outputs": [
    {
     "data": {
      "text/plain": [
       "array([' ', '!', '\"', \"'\", '(', ')', '+', ',', '-', '.', '/', '0', '1',\n",
       "       '2', '3', '4', '5', '6', '7', '8', '9', ':', ';', '=', '>', 'A',\n",
       "       'B', 'C', 'D', 'E', 'F', 'G', 'H', 'I', 'J', 'K', 'L', 'M', 'N',\n",
       "       'O', 'P', 'Q', 'R', 'S', 'T', 'U', 'V', 'W', 'X', 'Y', 'Z', '[',\n",
       "       ']', '^', '_', 'a', 'b', 'c', 'd', 'e', 'f', 'g', 'h', 'i', 'j',\n",
       "       'k', 'l', 'm', 'n', 'o', 'p', 'q', 'r', 's', 't', 'u', 'v', 'w',\n",
       "       'x', 'y', 'z', '{', '|', '}', '\\xa0', '«', '»', 'Ç', '×', 'à', 'á',\n",
       "       'ã', 'ä', 'ç', 'é', 'ê', 'î', 'ā', 'ć', 'ē', 'ī', 'ń', 'ō', 'Ś',\n",
       "       'ş', 'š', 'ˈ', 'Ά', 'Α', 'Μ', 'Ο', 'ή', 'ί', 'α', 'β', 'γ', 'δ',\n",
       "       'ε', 'θ', 'ι', 'λ', 'μ', 'ν', 'ξ', 'ο', 'ρ', 'ς', 'τ', 'ω', 'П',\n",
       "       'Р', 'а', 'е', 'и', 'м', 'н', 'р', 'т', 'у', 'я', '،', '؛', '؟',\n",
       "       'ء', 'آ', 'أ', 'ؤ', 'ئ', 'ا', 'ب', 'ة', 'ت', 'ث', 'ج', 'ح', 'خ',\n",
       "       'د', 'ذ', 'ر', 'ز', 'س', 'ش', 'ص', 'ض', 'ط', 'ظ', 'ع', 'غ', 'ـ',\n",
       "       'ف', 'ق', 'ل', 'م', 'ن', 'ه', 'و', 'ي', 'ً', 'َ', 'ُ', 'ِ', 'ّ',\n",
       "       'ْ', 'ٔ', '٪', '٫', '٬', 'ٰ', 'پ', 'چ', 'ژ', 'ک', 'گ', 'ۀ', 'ی',\n",
       "       '۰', '۱', '۲', '۳', '۴', '۵', '۶', '۷', '۸', '۹', 'Ἀ', 'ἑ', 'ὁ',\n",
       "       'ὔ', 'ὕ', 'ῆ', '\\u200d', '\\u200e', '–', '—', '‚', '“', '”', '„',\n",
       "       '…', '→', '∞', 'ﷲ'], dtype='<U1')"
      ]
     },
     "execution_count": 12,
     "metadata": {},
     "output_type": "execute_result"
    }
   ],
   "source": [
    "index2char"
   ]
  },
  {
   "cell_type": "code",
   "execution_count": 13,
   "id": "8625be7a",
   "metadata": {},
   "outputs": [],
   "source": [
    "text_as_integer = np.array([char2index[c] for c in sub_text])"
   ]
  },
  {
   "cell_type": "code",
   "execution_count": 14,
   "id": "2c459922",
   "metadata": {},
   "outputs": [
    {
     "data": {
      "text/plain": [
       "array([175, 194, 191, ..., 161, 194, 173])"
      ]
     },
     "execution_count": 14,
     "metadata": {},
     "output_type": "execute_result"
    }
   ],
   "source": [
    "text_as_integer"
   ]
  },
  {
   "cell_type": "code",
   "execution_count": 15,
   "id": "7a081b23",
   "metadata": {},
   "outputs": [],
   "source": [
    "char_dataset = tf.data.Dataset.from_tensor_slices(text_as_integer)"
   ]
  },
  {
   "cell_type": "code",
   "execution_count": 16,
   "id": "c307b86c",
   "metadata": {},
   "outputs": [
    {
     "name": "stdout",
     "output_type": "stream",
     "text": [
      "و\n",
      "ی\n",
      "ک\n",
      "ی\n",
      " \n",
      "پ\n",
      "د\n",
      "ی\n",
      "ا\n",
      " \n"
     ]
    }
   ],
   "source": [
    "for i in char_dataset.take(10):\n",
    "    print(index2char[i.numpy()])"
   ]
  },
  {
   "cell_type": "code",
   "execution_count": 17,
   "id": "3e08467b",
   "metadata": {},
   "outputs": [
    {
     "data": {
      "text/plain": [
       "<BatchDataset element_spec=TensorSpec(shape=(100,), dtype=tf.int32, name=None)>"
      ]
     },
     "execution_count": 17,
     "metadata": {},
     "output_type": "execute_result"
    }
   ],
   "source": [
    "sequences = char_dataset.batch(100, drop_remainder=True)\n",
    "sequences"
   ]
  },
  {
   "cell_type": "code",
   "execution_count": 18,
   "id": "b8bc8518",
   "metadata": {},
   "outputs": [],
   "source": [
    "def sit(batch):\n",
    "    input_text = batch[:-1]\n",
    "    target_text = batch[1:]\n",
    "    return input_text, target_text"
   ]
  },
  {
   "cell_type": "code",
   "execution_count": 19,
   "id": "b1416d75",
   "metadata": {},
   "outputs": [],
   "source": [
    "dataset = sequences.map(sit)"
   ]
  },
  {
   "cell_type": "code",
   "execution_count": 20,
   "id": "e7324194",
   "metadata": {},
   "outputs": [
    {
     "name": "stdout",
     "output_type": "stream",
     "text": [
      "ویکی پدیا (کوته نوشت به صورت «وپ» و «WP») یک دانشنامه برخط چندزبانه مبتنی بر وب با محتوای آزاد و هم\n",
      "یکی پدیا (کوته نوشت به صورت «وپ» و «WP») یک دانشنامه برخط چندزبانه مبتنی بر وب با محتوای آزاد و همک\n"
     ]
    }
   ],
   "source": [
    "for i in dataset.take(1):\n",
    "    print(''.join(index2char[i[0].numpy()]))\n",
    "    print(''.join(index2char[i[1].numpy()]))"
   ]
  },
  {
   "cell_type": "code",
   "execution_count": 21,
   "id": "b44b4d62",
   "metadata": {},
   "outputs": [
    {
     "data": {
      "text/plain": [
       "<BatchDataset element_spec=(TensorSpec(shape=(50, 99), dtype=tf.int32, name=None), TensorSpec(shape=(50, 99), dtype=tf.int32, name=None))>"
      ]
     },
     "execution_count": 21,
     "metadata": {},
     "output_type": "execute_result"
    }
   ],
   "source": [
    "dataset = dataset.batch(50, drop_remainder=True)\n",
    "dataset"
   ]
  },
  {
   "cell_type": "markdown",
   "id": "c9f284d6",
   "metadata": {},
   "source": [
    "Modeling"
   ]
  },
  {
   "cell_type": "code",
   "execution_count": 22,
   "id": "77bc9321",
   "metadata": {},
   "outputs": [],
   "source": [
    "characters_size = len(characters)\n",
    "embedding_dim = 256\n",
    "rnn_units = 1024"
   ]
  },
  {
   "cell_type": "code",
   "execution_count": 22,
   "id": "88f0db77",
   "metadata": {},
   "outputs": [],
   "source": [
    "model = tf.keras.Sequential([\n",
    "    tf.keras.layers.Embedding(characters_size, embedding_dim),\n",
    "    tf.keras.layers.GRU(rnn_units, return_sequences=True),\n",
    "    tf.keras.layers.Dense(characters_size)\n",
    "])"
   ]
  },
  {
   "cell_type": "code",
   "execution_count": 23,
   "id": "eba34958",
   "metadata": {},
   "outputs": [
    {
     "name": "stdout",
     "output_type": "stream",
     "text": [
      "Model: \"sequential\"\n",
      "_________________________________________________________________\n",
      " Layer (type)                Output Shape              Param #   \n",
      "=================================================================\n",
      " embedding (Embedding)       (None, None, 256)         57088     \n",
      "                                                                 \n",
      " gru (GRU)                   (None, None, 1024)        3938304   \n",
      "                                                                 \n",
      " dense (Dense)               (None, None, 223)         228575    \n",
      "                                                                 \n",
      "=================================================================\n",
      "Total params: 4,223,967\n",
      "Trainable params: 4,223,967\n",
      "Non-trainable params: 0\n",
      "_________________________________________________________________\n"
     ]
    }
   ],
   "source": [
    "model.summary()"
   ]
  },
  {
   "cell_type": "code",
   "execution_count": 24,
   "id": "d9078fe0",
   "metadata": {},
   "outputs": [],
   "source": [
    "def loss_f(labels, logits):\n",
    "    return tf.keras.losses.sparse_categorical_crossentropy(labels, logits, from_logits=True)"
   ]
  },
  {
   "cell_type": "code",
   "execution_count": 25,
   "id": "17289017",
   "metadata": {},
   "outputs": [],
   "source": [
    "model.compile(optimizer='adam', loss=loss_f)"
   ]
  },
  {
   "cell_type": "code",
   "execution_count": 26,
   "id": "a3d8f5f4",
   "metadata": {},
   "outputs": [],
   "source": [
    "checkpoint = tf.keras.callbacks.ModelCheckpoint(filepath='gru_prediction_model.h5', save_weights_only=True)"
   ]
  },
  {
   "cell_type": "code",
   "execution_count": 27,
   "id": "7914ddda",
   "metadata": {},
   "outputs": [
    {
     "name": "stdout",
     "output_type": "stream",
     "text": [
      "Epoch 1/10\n",
      "200/200 [==============================] - 515s 3s/step - loss: 2.8493\n",
      "Epoch 2/10\n",
      "200/200 [==============================] - 520s 3s/step - loss: 2.3782\n",
      "Epoch 3/10\n",
      "200/200 [==============================] - 537s 3s/step - loss: 2.1576\n",
      "Epoch 4/10\n",
      "200/200 [==============================] - 558s 3s/step - loss: 1.9713\n",
      "Epoch 5/10\n",
      "200/200 [==============================] - 556s 3s/step - loss: 1.8282\n",
      "Epoch 6/10\n",
      "200/200 [==============================] - 549s 3s/step - loss: 1.7184\n",
      "Epoch 7/10\n",
      "200/200 [==============================] - 528s 3s/step - loss: 1.6310\n",
      "Epoch 8/10\n",
      "200/200 [==============================] - 576s 3s/step - loss: 1.5540\n",
      "Epoch 9/10\n",
      "200/200 [==============================] - 549s 3s/step - loss: 1.4818\n",
      "Epoch 10/10\n",
      "200/200 [==============================] - 496s 2s/step - loss: 1.4088\n"
     ]
    }
   ],
   "source": [
    "history = model.fit(dataset, epochs=10, callbacks=[checkpoint])"
   ]
  },
  {
   "cell_type": "code",
   "execution_count": 28,
   "id": "4e8a9e66",
   "metadata": {},
   "outputs": [],
   "source": [
    "model.save('gru_prediction_model.h5')"
   ]
  },
  {
   "cell_type": "markdown",
   "id": "0f900a77",
   "metadata": {},
   "source": [
    "Prediction"
   ]
  },
  {
   "cell_type": "code",
   "execution_count": 23,
   "id": "bcc4c882",
   "metadata": {},
   "outputs": [],
   "source": [
    "model2 = tf.keras.Sequential([\n",
    "    tf.keras.layers.Embedding(characters_size, embedding_dim),\n",
    "    tf.keras.layers.GRU(rnn_units, return_sequences=True),\n",
    "    tf.keras.layers.Dense(characters_size)\n",
    "])"
   ]
  },
  {
   "cell_type": "code",
   "execution_count": 24,
   "id": "da2c48f9",
   "metadata": {},
   "outputs": [],
   "source": [
    "model2.load_weights('gru_prediction_model.h5')"
   ]
  },
  {
   "cell_type": "code",
   "execution_count": 25,
   "id": "e25865db",
   "metadata": {},
   "outputs": [],
   "source": [
    "model2.build(tf.TensorShape([1, None]))"
   ]
  },
  {
   "cell_type": "code",
   "execution_count": 26,
   "id": "b5b16f58",
   "metadata": {},
   "outputs": [],
   "source": [
    "model2.reset_states()"
   ]
  },
  {
   "cell_type": "code",
   "execution_count": 29,
   "id": "49d9ad9b",
   "metadata": {},
   "outputs": [],
   "source": [
    "def predict_characters(base_model, char_num, starting_text):\n",
    "    input_eval = [char2index[s] for s in starting_text]\n",
    "    input_eval = tf.expand_dims(input_eval, 0)\n",
    "    text_generated = [starting_text]\n",
    "    for i in range(char_num):\n",
    "        predictions = base_model.predict(input_eval, verbose=0)\n",
    "        predictions = tf.squeeze(predictions, 0)\n",
    "        predicted_ids = np.array(predictions.numpy()).argmax(axis=1).reshape(-1, 1)[-1][0]\n",
    "        message = np.append(input_eval[0].numpy(), predicted_ids)[1:]\n",
    "        input_eval = tf.expand_dims(message, 0)\n",
    "        text_generated.append(index2char[predicted_ids])\n",
    "        \n",
    "    for i in ''.join(text_generated).split('\\n'):\n",
    "        print(i)"
   ]
  },
  {
   "cell_type": "code",
   "execution_count": 34,
   "id": "433ff1bd",
   "metadata": {},
   "outputs": [
    {
     "name": "stdout",
     "output_type": "stream",
     "text": [
      "ویکی پدیا به سرزمین های بودایی در این منطقه بودایی از هند ب\n"
     ]
    }
   ],
   "source": [
    "predict_characters(model2, 50, 'ویکی پدیا')"
   ]
  },
  {
   "cell_type": "code",
   "execution_count": null,
   "id": "1375665e",
   "metadata": {},
   "outputs": [],
   "source": []
  }
 ],
 "metadata": {
  "kernelspec": {
   "display_name": "Python 3 (ipykernel)",
   "language": "python",
   "name": "python3"
  },
  "language_info": {
   "codemirror_mode": {
    "name": "ipython",
    "version": 3
   },
   "file_extension": ".py",
   "mimetype": "text/x-python",
   "name": "python",
   "nbconvert_exporter": "python",
   "pygments_lexer": "ipython3",
   "version": "3.9.12"
  }
 },
 "nbformat": 4,
 "nbformat_minor": 5
}
